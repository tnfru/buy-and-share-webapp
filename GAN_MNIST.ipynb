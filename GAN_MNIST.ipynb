{
  "nbformat": 4,
  "nbformat_minor": 0,
  "metadata": {
    "colab": {
      "name": "GAN_MNIST.ipynb",
      "provenance": [],
      "collapsed_sections": [],
      "authorship_tag": "ABX9TyMzXunmwCEOaf6PPdw6S568",
      "include_colab_link": true
    },
    "kernelspec": {
      "name": "python3",
      "display_name": "Python 3"
    },
    "accelerator": "GPU"
  },
  "cells": [
    {
      "cell_type": "markdown",
      "metadata": {
        "id": "view-in-github",
        "colab_type": "text"
      },
      "source": [
        "<a href=\"https://colab.research.google.com/github/tnfru/buy-and-share-webapp/blob/master/GAN_MNIST.ipynb\" target=\"_parent\"><img src=\"https://colab.research.google.com/assets/colab-badge.svg\" alt=\"Open In Colab\"/></a>"
      ]
    },
    {
      "cell_type": "code",
      "metadata": {
        "id": "m7GpU5jFf2t-",
        "colab_type": "code",
        "outputId": "f1f4e28a-89cc-4cc8-fd98-d029e8aded7c",
        "colab": {
          "base_uri": "https://localhost:8080/",
          "height": 52
        }
      },
      "source": [
        "import numpy as np\n",
        "import sys\n",
        "if 'google.colab' in sys.modules:\n",
        "  %tensorflow_version 2.x\n",
        "import tensorflow as tf\n",
        "from keras.datasets import mnist\n",
        "from keras.utils.np_utils import to_categorical\n",
        "from tensorflow.keras.models import Sequential\n",
        "from tensorflow.keras.layers import Dense, Activation, Flatten, Reshape\n",
        "from tensorflow.keras.layers import Conv2D, UpSampling2D\n",
        "from tensorflow.keras.layers import LeakyReLU, Dropout\n",
        "from tensorflow.keras.layers import BatchNormalization\n",
        "from tensorflow.keras.optimizers import Adam, SGD, RMSprop\n",
        "import matplotlib.pyplot as plt\n",
        "\n",
        "AUTO = tf.data.experimental.AUTOTUNE\n",
        "l = tf.keras.layers"
      ],
      "execution_count": 1,
      "outputs": [
        {
          "output_type": "stream",
          "text": [
            "TensorFlow 2.x selected.\n"
          ],
          "name": "stdout"
        },
        {
          "output_type": "stream",
          "text": [
            "Using TensorFlow backend.\n"
          ],
          "name": "stderr"
        }
      ]
    },
    {
      "cell_type": "code",
      "metadata": {
        "id": "LdXCAHY8hIqb",
        "colab_type": "code",
        "outputId": "59ed4b2a-0a37-4a38-aa08-244573d779ba",
        "colab": {
          "base_uri": "https://localhost:8080/",
          "height": 52
        }
      },
      "source": [
        "try:\n",
        "  tpu = tf.distribute.cluster_resolver.TPUClusterResolver()\n",
        "except ValueError:\n",
        "  tpu = None\n",
        "  gpus = tf.config.experimental.list_logical_devices(\"GPU\")\n",
        "\n",
        "if tpu:\n",
        "  tf.config.experimental_connect_to_cluster(tpu)\n",
        "  tf.tpu.experimental.initialize_tpu_system(tpu)\n",
        "  strategy = tf.distribute.experimental.TPUStrategy(tpu)\n",
        "  print('Running on TPU ', tpu.master())  \n",
        "elif len(gpus) > 0:\n",
        "  strategy = tf.distribute.MirroredStrategy(gpus)\n",
        "  print('Running on ', len(gpus), ' GPU(s) ')\n",
        "else:\n",
        "  strategy = tf.distribute.get_strategy()\n",
        "  print('Running on CPU')"
      ],
      "execution_count": 2,
      "outputs": [
        {
          "output_type": "stream",
          "text": [
            "INFO:tensorflow:Using MirroredStrategy with devices ('/job:localhost/replica:0/task:0/device:GPU:0',)\n",
            "Running on  1  GPU(s) \n"
          ],
          "name": "stdout"
        }
      ]
    },
    {
      "cell_type": "code",
      "metadata": {
        "id": "WuIU6hA5htiX",
        "colab_type": "code",
        "colab": {}
      },
      "source": [
        "IMG_SIZE = [28, 28]\n",
        "BATCH_SIZE = 128"
      ],
      "execution_count": 0,
      "outputs": []
    },
    {
      "cell_type": "code",
      "metadata": {
        "id": "6eVqENwIgkVF",
        "colab_type": "code",
        "colab": {}
      },
      "source": [
        "(X, Y), (X_test, Y_test) = mnist.load_data()"
      ],
      "execution_count": 0,
      "outputs": []
    },
    {
      "cell_type": "code",
      "metadata": {
        "id": "uD82EtRxhs1V",
        "colab_type": "code",
        "outputId": "f26dbd16-21d2-4ce9-9155-c3cce1fdf32b",
        "colab": {
          "base_uri": "https://localhost:8080/",
          "height": 34
        }
      },
      "source": [
        "np.isnan(X).sum(), np.isnan(X_test).sum()"
      ],
      "execution_count": 5,
      "outputs": [
        {
          "output_type": "execute_result",
          "data": {
            "text/plain": [
              "(0, 0)"
            ]
          },
          "metadata": {
            "tags": []
          },
          "execution_count": 5
        }
      ]
    },
    {
      "cell_type": "code",
      "metadata": {
        "id": "f93BOBbgh_K5",
        "colab_type": "code",
        "colab": {}
      },
      "source": [
        "def norm_data(X):\n",
        "  X = X / 255.0\n",
        "  #X = X - X.mean(axis=0)\n",
        "  X = X.reshape(-1, *IMG_SIZE, 1)\n",
        "\n",
        "  return X"
      ],
      "execution_count": 0,
      "outputs": []
    },
    {
      "cell_type": "code",
      "metadata": {
        "id": "aF86VXRlidY4",
        "colab_type": "code",
        "colab": {}
      },
      "source": [
        "X = norm_data(X)\n",
        "X_test = norm_data(X_test)"
      ],
      "execution_count": 0,
      "outputs": []
    },
    {
      "cell_type": "code",
      "metadata": {
        "id": "D4e3JKZ7geCY",
        "colab_type": "code",
        "outputId": "be45a395-d17f-4330-a0a9-0965edff3d3c",
        "colab": {
          "base_uri": "https://localhost:8080/",
          "height": 34
        }
      },
      "source": [
        "X.shape"
      ],
      "execution_count": 8,
      "outputs": [
        {
          "output_type": "execute_result",
          "data": {
            "text/plain": [
              "(60000, 28, 28, 1)"
            ]
          },
          "metadata": {
            "tags": []
          },
          "execution_count": 8
        }
      ]
    },
    {
      "cell_type": "code",
      "metadata": {
        "id": "ziIihhQHiq6E",
        "colab_type": "code",
        "colab": {}
      },
      "source": [
        "def discriminator():\n",
        "  discriminator = tf.keras.Sequential([\n",
        "      l.Conv2D(16, 3, padding='same', input_shape=(*IMG_SIZE, 1)),\n",
        "      l.LeakyReLU(),\n",
        "      l.Conv2D(16, 3, padding='same'),\n",
        "      l.LeakyReLU(),\n",
        "      l.Dropout(0.4),\n",
        "      \n",
        "      l.Conv2D(32, 3, padding='same', strides=2),\n",
        "      l.LeakyReLU(),\n",
        "      l.Conv2D(32, 3, padding='same',),\n",
        "      l.LeakyReLU(),\n",
        "      l.Dropout(0.4),\n",
        "\n",
        "      l.Conv2D(64, 3, padding='same', strides=2),\n",
        "      l.BatchNormalization(),\n",
        "      l.LeakyReLU(),\n",
        "      l.Conv2D(64, 3, padding='same',),\n",
        "      l.BatchNormalization(),\n",
        "      l.LeakyReLU(),\n",
        "      l.Dropout(0.4),\n",
        "\n",
        "\n",
        "      l.Conv2D(128, 3, padding='same', strides=2),\n",
        "      l.LeakyReLU(),\n",
        "      l.Conv2D(128, 3, padding='same'),\n",
        "      l.LeakyReLU(),\n",
        "      l.Dropout(0.4),\n",
        "\n",
        "      l.Conv2D(256, 3, padding='same'),\n",
        "      l.LeakyReLU(),\n",
        "      l.Dropout(0.4),\n",
        "\n",
        "\n",
        "      l.Conv2D(512, 3, padding='same', strides=2),\n",
        "      l.LeakyReLU(),\n",
        "      l.Dropout(0.4),\n",
        "\n",
        "      l.Flatten(),\n",
        "      l.Dense(1, activation='sigmoid')\n",
        "  ]) \n",
        "  \n",
        "  #discriminator.summary()\n",
        "\n",
        "  return discriminator"
      ],
      "execution_count": 0,
      "outputs": []
    },
    {
      "cell_type": "code",
      "metadata": {
        "id": "d1yqMG1ixJP6",
        "colab_type": "code",
        "colab": {}
      },
      "source": [
        "def discriminator_tut():\n",
        "    \n",
        "    net = tf.keras.Sequential()\n",
        "    input_shape = (28, 28, 1)\n",
        "    dropout_prob = 0.4\n",
        "\n",
        "    net.add(l.Conv2D(64, 5, strides=2, input_shape=input_shape, padding='same'))\n",
        "    net.add(l.LeakyReLU())\n",
        "    \n",
        "    net.add(l.Conv2D(128, 5, strides=2, padding='same'))\n",
        "    net.add(l.LeakyReLU())\n",
        "    net.add(l.Dropout(dropout_prob))\n",
        "    \n",
        "    net.add(l.Conv2D(256, 5, strides=2, padding='same'))\n",
        "    net.add(l.LeakyReLU())\n",
        "    net.add(l.Dropout(dropout_prob))\n",
        "    \n",
        "    net.add(l.Conv2D(512, 5, strides=1, padding='same'))\n",
        "    net.add(l.LeakyReLU())\n",
        "    net.add(l.Dropout(dropout_prob))\n",
        "    \n",
        "    net.add(l.Flatten())\n",
        "    net.add(l.Dense(1))\n",
        "    net.add(l.Activation('sigmoid'))\n",
        "    \n",
        "    return net"
      ],
      "execution_count": 0,
      "outputs": []
    },
    {
      "cell_type": "code",
      "metadata": {
        "id": "rm5RBjtZ6T9m",
        "colab_type": "code",
        "colab": {}
      },
      "source": [
        "def generator_tut():\n",
        "    \n",
        "    net = Sequential()\n",
        "    dropout_prob = 0.4\n",
        "    \n",
        "    net.add(Dense(7*7*256, input_dim=100))\n",
        "    net.add(BatchNormalization(momentum=0.9))\n",
        "    net.add(LeakyReLU())\n",
        "    net.add(Reshape((7,7,256)))\n",
        "    net.add(Dropout(dropout_prob))\n",
        "    \n",
        "    net.add(UpSampling2D())\n",
        "    net.add(Conv2D(128, 5, padding='same'))\n",
        "    net.add(BatchNormalization(momentum=0.9))\n",
        "    net.add(LeakyReLU())\n",
        "    \n",
        "    net.add(UpSampling2D())\n",
        "    net.add(Conv2D(64, 5, padding='same'))\n",
        "    net.add(BatchNormalization(momentum=0.9))\n",
        "    net.add(LeakyReLU())\n",
        "    \n",
        "    net.add(Conv2D(32, 5, padding='same'))\n",
        "    net.add(BatchNormalization(momentum=0.9))\n",
        "    net.add(LeakyReLU())\n",
        "    \n",
        "    net.add(Conv2D(1, 5, padding='same'))\n",
        "    net.add(Activation('sigmoid'))\n",
        "    \n",
        "    return net"
      ],
      "execution_count": 0,
      "outputs": []
    },
    {
      "cell_type": "code",
      "metadata": {
        "id": "wfelyTRqj1Fm",
        "colab_type": "code",
        "colab": {}
      },
      "source": [
        "def generator():\n",
        "  generator = tf.keras.Sequential([\n",
        "      l.Dense(7 * 7 * 256, input_dim=100),\n",
        "      l.BatchNormalization(momentum=0.9),\n",
        "      l.LeakyReLU(),\n",
        "      l.Reshape((7, 7, 256)),\n",
        "      l.Dropout(0.4),\n",
        "\n",
        "      l.UpSampling2D(),\n",
        "      l.Conv2D(128, 5, padding='same'),\n",
        "      l.BatchNormalization(momentum=0.9),\n",
        "      l.LeakyReLU(),\n",
        "      l.Conv2D(128, 5, padding='same'),\n",
        "      l.BatchNormalization(momentum=0.9),\n",
        "      l.LeakyReLU(),\n",
        "\n",
        "      l.UpSampling2D(),\n",
        "      l.Conv2D(64, 5, padding='same'),\n",
        "      l.BatchNormalization(momentum=0.9),\n",
        "      l.LeakyReLU(),\n",
        "      l.Conv2D(64, 5, padding='same'),\n",
        "      l.BatchNormalization(momentum=0.9),\n",
        "      l.LeakyReLU(),\n",
        "\n",
        "      l.Conv2D(32, 5, padding='same'),\n",
        "      l.BatchNormalization(momentum=0.9),\n",
        "      l.LeakyReLU(),\n",
        "\n",
        "      l.Conv2D(1, 5, padding='same'),\n",
        "      l.Activation('sigmoid')\n",
        "  ])\n",
        "\n",
        "  #generator.summary()\n",
        "\n",
        "  return generator"
      ],
      "execution_count": 0,
      "outputs": []
    },
    {
      "cell_type": "code",
      "metadata": {
        "id": "P5tVR4OcqeIm",
        "colab_type": "code",
        "colab": {}
      },
      "source": [
        "def create_models():\n",
        "  optim_discriminator = tf.keras.optimizers.RMSprop(lr=0.0008, clipvalue=1.0, decay=1e-10)\n",
        "\n",
        "  model_discriminator = tf.keras.Sequential()\n",
        "  #net_discriminator = discriminator_tut()\n",
        "  net_discriminator = discriminator()\n",
        "  model_discriminator.add(net_discriminator)\n",
        "  model_discriminator.compile(loss='binary_crossentropy', \n",
        "                                optimizer=optim_discriminator, \n",
        "                                metrics=['accuracy'])\n",
        "      \n",
        "  optim_adversarial = tf.keras.optimizers.Adam(lr=0.0004, clipvalue=1.0, decay=1e-10)\n",
        "\n",
        "  model_adversarial = tf.keras.Sequential()\n",
        "  net_gen = generator()\n",
        "  #net_gen = generator_tut()\n",
        "  model_adversarial.add(net_gen)\n",
        "\n",
        "  for layer in net_discriminator.layers:\n",
        "    layer.trainable = False\n",
        "\n",
        "  model_adversarial.add(net_discriminator)\n",
        "  model_adversarial.compile(loss='binary_crossentropy', \n",
        "                              optimizer=optim_adversarial, \n",
        "                              metrics=['accuracy'])\n",
        "    \n",
        "  return model_discriminator, model_adversarial, net_gen, net_discriminator"
      ],
      "execution_count": 0,
      "outputs": []
    },
    {
      "cell_type": "code",
      "metadata": {
        "id": "zOfsNciV1lkk",
        "colab_type": "code",
        "colab": {}
      },
      "source": [
        "model_discriminator, model_adversarial, net_gen, net_discriminator = create_models()"
      ],
      "execution_count": 0,
      "outputs": []
    },
    {
      "cell_type": "code",
      "metadata": {
        "id": "yHNNIUvju3id",
        "colab_type": "code",
        "outputId": "18a0a6b7-8dd3-4237-f911-e64c3c4a1944",
        "colab": {
          "base_uri": "https://localhost:8080/",
          "height": 225
        }
      },
      "source": [
        "model_adversarial.summary()"
      ],
      "execution_count": 15,
      "outputs": [
        {
          "output_type": "stream",
          "text": [
            "Model: \"sequential_2\"\n",
            "_________________________________________________________________\n",
            "Layer (type)                 Output Shape              Param #   \n",
            "=================================================================\n",
            "sequential_3 (Sequential)    (None, 28, 28, 1)         2907201   \n",
            "_________________________________________________________________\n",
            "sequential_1 (Sequential)    (None, 1)                 1771121   \n",
            "=================================================================\n",
            "Total params: 4,678,322\n",
            "Trainable params: 2,881,281\n",
            "Non-trainable params: 1,797,041\n",
            "_________________________________________________________________\n"
          ],
          "name": "stdout"
        }
      ]
    },
    {
      "cell_type": "code",
      "metadata": {
        "id": "kXuYdAtz3uZ3",
        "colab_type": "code",
        "outputId": "a9992587-3df5-4910-d1a7-82ecd6f74323",
        "colab": {
          "base_uri": "https://localhost:8080/",
          "height": 903
        }
      },
      "source": [
        "for i in range(5001):\n",
        "  noise = np.random.uniform(-1.0, 1.0, size=[BATCH_SIZE, 100])\n",
        "\n",
        "  real_imgs = X[(np.random.randint(0, X.shape[0], size=BATCH_SIZE)), :, :, :]\n",
        "  fake_imgs = net_gen.predict(noise)\n",
        "\n",
        "  imgs = np.concatenate((real_imgs, fake_imgs))\n",
        "  labels = np.ones((2*BATCH_SIZE, 1))\n",
        "  labels[BATCH_SIZE:,:] = 0\n",
        "\n",
        "  d_stats = model_discriminator.train_on_batch(imgs, labels)\n",
        "  \n",
        "  labels = np.ones([BATCH_SIZE, 1])\n",
        "  noise = np.random.uniform(-1.0, 1.0, size=[BATCH_SIZE, 100])\n",
        "  a_stats = model_adversarial.train_on_batch(noise, labels)\n",
        "\n",
        "  if i % 100 == 0:\n",
        "    print(\"{}: [Dis. loss: {:.4f}, acc: {:.4f}] [Gen. loss: {:.4f}, acc: {:.4f}]\".format(i, d_stats[0], d_stats[1], a_stats[0], a_stats[1]))"
      ],
      "execution_count": 16,
      "outputs": [
        {
          "output_type": "stream",
          "text": [
            "0: [Dis. loss: 0.7288, acc: 0.4297] [Gen. loss: 0.7952, acc: 0.0000]\n",
            "100: [Dis. loss: 3.6316, acc: 0.7188] [Gen. loss: 1.1612, acc: 0.0156]\n",
            "200: [Dis. loss: 0.3921, acc: 0.8242] [Gen. loss: 3.3868, acc: 0.0000]\n",
            "300: [Dis. loss: 0.3582, acc: 0.8203] [Gen. loss: 3.3430, acc: 0.0000]\n",
            "400: [Dis. loss: 0.3839, acc: 0.8125] [Gen. loss: 2.7512, acc: 0.0000]\n",
            "500: [Dis. loss: 0.3618, acc: 0.8398] [Gen. loss: 2.0141, acc: 0.1719]\n",
            "600: [Dis. loss: 0.3867, acc: 0.8242] [Gen. loss: 1.4294, acc: 0.1641]\n",
            "700: [Dis. loss: 0.4821, acc: 0.7578] [Gen. loss: 2.4792, acc: 0.0859]\n",
            "800: [Dis. loss: 0.3379, acc: 0.8711] [Gen. loss: 5.5137, acc: 0.0078]\n",
            "900: [Dis. loss: 0.3760, acc: 0.8477] [Gen. loss: 3.9295, acc: 0.0078]\n",
            "1000: [Dis. loss: 0.4003, acc: 0.8242] [Gen. loss: 0.0360, acc: 1.0000]\n",
            "1100: [Dis. loss: 0.3633, acc: 0.8359] [Gen. loss: 6.2593, acc: 0.0000]\n",
            "1200: [Dis. loss: 0.3406, acc: 0.8477] [Gen. loss: 7.2547, acc: 0.0000]\n",
            "1300: [Dis. loss: 0.3899, acc: 0.8281] [Gen. loss: 0.0178, acc: 0.9922]\n",
            "1400: [Dis. loss: 0.3078, acc: 0.8633] [Gen. loss: 1.0505, acc: 0.5078]\n",
            "1500: [Dis. loss: 0.5423, acc: 0.7773] [Gen. loss: 0.2044, acc: 0.9375]\n",
            "1600: [Dis. loss: 0.3234, acc: 0.8555] [Gen. loss: 0.8005, acc: 0.5859]\n",
            "1700: [Dis. loss: 0.2559, acc: 0.8906] [Gen. loss: 7.1581, acc: 0.0000]\n",
            "1800: [Dis. loss: 0.3003, acc: 0.8750] [Gen. loss: 1.9612, acc: 0.2578]\n",
            "1900: [Dis. loss: 0.2499, acc: 0.9023] [Gen. loss: 8.6061, acc: 0.0000]\n",
            "2000: [Dis. loss: 0.2493, acc: 0.9102] [Gen. loss: 0.4248, acc: 0.7891]\n",
            "2100: [Dis. loss: 0.3596, acc: 0.8477] [Gen. loss: 8.5394, acc: 0.0000]\n",
            "2200: [Dis. loss: 0.1605, acc: 0.9531] [Gen. loss: 4.8601, acc: 0.0234]\n",
            "2300: [Dis. loss: 0.1945, acc: 0.9375] [Gen. loss: 11.0823, acc: 0.0000]\n",
            "2400: [Dis. loss: 0.2613, acc: 0.8867] [Gen. loss: 3.9963, acc: 0.0156]\n",
            "2500: [Dis. loss: 0.2422, acc: 0.8945] [Gen. loss: 0.0006, acc: 1.0000]\n",
            "2600: [Dis. loss: 0.2538, acc: 0.8711] [Gen. loss: 0.0000, acc: 1.0000]\n",
            "2700: [Dis. loss: 0.2879, acc: 0.8750] [Gen. loss: 8.9678, acc: 0.0000]\n",
            "2800: [Dis. loss: 0.2038, acc: 0.9102] [Gen. loss: 14.3883, acc: 0.0000]\n",
            "2900: [Dis. loss: 0.2330, acc: 0.9062] [Gen. loss: 0.0088, acc: 1.0000]\n",
            "3000: [Dis. loss: 0.3352, acc: 0.8516] [Gen. loss: 5.8481, acc: 0.0000]\n",
            "3100: [Dis. loss: 0.4018, acc: 0.8281] [Gen. loss: 7.7698, acc: 0.0000]\n",
            "3200: [Dis. loss: 0.3779, acc: 0.8359] [Gen. loss: 0.0000, acc: 1.0000]\n",
            "3300: [Dis. loss: 0.1814, acc: 0.9219] [Gen. loss: 4.5565, acc: 0.0469]\n",
            "3400: [Dis. loss: 0.3714, acc: 0.8477] [Gen. loss: 3.9189, acc: 0.0156]\n",
            "3500: [Dis. loss: 0.1696, acc: 0.9297] [Gen. loss: 14.1045, acc: 0.0000]\n",
            "3600: [Dis. loss: 0.2941, acc: 0.8789] [Gen. loss: 2.2296, acc: 0.2188]\n",
            "3700: [Dis. loss: 0.3631, acc: 0.8633] [Gen. loss: 0.2321, acc: 0.9297]\n",
            "3800: [Dis. loss: 0.2823, acc: 0.8984] [Gen. loss: 10.6535, acc: 0.0000]\n",
            "3900: [Dis. loss: 0.2965, acc: 0.8711] [Gen. loss: 3.8630, acc: 0.0391]\n",
            "4000: [Dis. loss: 0.2737, acc: 0.8906] [Gen. loss: 0.0032, acc: 1.0000]\n",
            "4100: [Dis. loss: 0.2328, acc: 0.9062] [Gen. loss: 0.0000, acc: 1.0000]\n",
            "4200: [Dis. loss: 0.2920, acc: 0.9023] [Gen. loss: 9.9382, acc: 0.0000]\n",
            "4300: [Dis. loss: 0.3551, acc: 0.8555] [Gen. loss: 0.3400, acc: 0.8516]\n",
            "4400: [Dis. loss: 0.2243, acc: 0.9258] [Gen. loss: 7.4270, acc: 0.0000]\n",
            "4500: [Dis. loss: 0.3090, acc: 0.8633] [Gen. loss: 0.0029, acc: 1.0000]\n",
            "4600: [Dis. loss: 0.3122, acc: 0.8711] [Gen. loss: 0.0000, acc: 1.0000]\n",
            "4700: [Dis. loss: 0.2283, acc: 0.9180] [Gen. loss: 0.0002, acc: 1.0000]\n",
            "4800: [Dis. loss: 0.3637, acc: 0.8398] [Gen. loss: 2.3480, acc: 0.1562]\n",
            "4900: [Dis. loss: 0.3162, acc: 0.8594] [Gen. loss: 2.8108, acc: 0.0781]\n",
            "5000: [Dis. loss: 0.3456, acc: 0.8359] [Gen. loss: 4.2343, acc: 0.0000]\n"
          ],
          "name": "stdout"
        }
      ]
    },
    {
      "cell_type": "code",
      "metadata": {
        "id": "PaEt_YmR-Mo4",
        "colab_type": "code",
        "outputId": "9cda6828-4c86-43a9-f962-b6621c41cf5f",
        "colab": {
          "base_uri": "https://localhost:8080/",
          "height": 297
        }
      },
      "source": [
        "plt.figure(figsize=(15,4))\n",
        "\n",
        "for i in range(40):\n",
        "  #  noise = np.zeros([1,100]) - 1 + (i * 0.2)\n",
        "    noise = np.random.uniform(-1.0, 1.0, size=[1, 100])\n",
        "    images = net_gen.predict(noise)\n",
        "    \n",
        "    image = images[0, :, :, :]\n",
        "    image = np.reshape(image, [28, 28])\n",
        "          \n",
        "    plt.subplot(4, 10, i+1)\n",
        "    plt.imshow(image, cmap='gray')\n",
        "    plt.axis('off')\n",
        "\n",
        "plt.tight_layout()\n",
        "plt.show()"
      ],
      "execution_count": 17,
      "outputs": [
        {
          "output_type": "display_data",
          "data": {
            "image/png": "[encoded data removed]",
            "text/plain": [
              "<Figure size 1080x288 with 40 Axes>"
            ]
          },
          "metadata": {
            "tags": []
          }
        }
      ]
    },
    {
      "cell_type": "code",
      "metadata": {
        "id": "saWEfteF7t9a",
        "colab_type": "code",
        "outputId": "5c3b14d9-2ee6-48dd-d8b4-747f7db24a64",
        "colab": {
          "base_uri": "https://localhost:8080/",
          "height": 357
        }
      },
      "source": [
        "plt.figure(figsize=(15,6))\n",
        "\n",
        "for i in range(40):\n",
        "    image = X[i, :, :, :]\n",
        "    image = np.reshape(image, [28, 28])\n",
        "          \n",
        "    plt.subplot(4, 10, i+1)\n",
        "    plt.imshow(image, cmap='gray')\n",
        "    plt.axis('off')"
      ],
      "execution_count": 18,
      "outputs": [
        {
          "output_type": "display_data",
          "data": {
            "image/png": "[encoded data removed]",
            "text/plain": [
              "<Figure size 1080x432 with 40 Axes>"
            ]
          },
          "metadata": {
            "tags": []
          }
        }
      ]
    },
    {
      "cell_type": "code",
      "metadata": {
        "id": "UGlZ40jMjWgP",
        "colab_type": "code",
        "colab": {}
      },
      "source": [
        ""
      ],
      "execution_count": 0,
      "outputs": []
    }
  ]
}